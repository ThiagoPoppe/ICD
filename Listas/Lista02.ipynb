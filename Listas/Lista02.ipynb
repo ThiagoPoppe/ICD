<<<<<<< HEAD
{
 "cells": [
  {
   "cell_type": "markdown",
   "metadata": {
    "deletable": false,
    "editable": false,
    "nbgrader": {
     "checksum": "eaf0c7f6324b9d7a98af39784e325a59",
     "grade": false,
     "grade_id": "cellc-a00",
     "locked": true,
     "schema_version": 1,
     "solution": false
    }
   },
   "source": [
    "# Lista 02 - Probabilidade + Estatística"
   ]
  },
  {
   "cell_type": "code",
   "execution_count": 2,
   "metadata": {
    "deletable": false,
    "editable": false,
    "nbgrader": {
     "checksum": "33ab7cb5c99e9e9ec290a223f69051e9",
     "grade": false,
     "grade_id": "cell-d52aeab7f55b79f3",
     "locked": true,
     "schema_version": 1,
     "solution": false
    }
   },
   "outputs": [],
   "source": [
    "import matplotlib.pyplot as plt\n",
    "import numpy as np\n",
    "import pandas as pd\n",
    "\n",
    "from numpy.testing import *\n",
    "from scipy import stats as ss\n",
    "\n",
    "plt.style.use('seaborn-colorblind')\n",
    "plt.ion()"
   ]
  },
  {
   "cell_type": "markdown",
   "metadata": {
    "deletable": false,
    "editable": false,
    "nbgrader": {
     "checksum": "fa204a34b383dedd4e2cca5c2ab531fc",
     "grade": false,
     "grade_id": "cell-b6fd0cae1e2c20ba",
     "locked": true,
     "schema_version": 1,
     "solution": false
    }
   },
   "source": [
    "# Exercício 01:\n",
    "\n",
    "\n",
    "Suponha que a altura de mulheres adultas de algumas regiões seguem uma distribuição normal com $\\mu = 162$ centímetros e $\\sigma = 8$. Nesse caso, responda às perguntas abaixo:"
   ]
  },
  {
   "cell_type": "markdown",
   "metadata": {
    "deletable": false,
    "editable": false,
    "nbgrader": {
     "checksum": "41d492c263910d26f137958cfb6ddbd9",
     "grade": false,
     "grade_id": "cell-23841d1381e158d6",
     "locked": true,
     "schema_version": 1,
     "solution": false
    }
   },
   "source": [
    "ID:\n",
    "\n",
    "(a) Dado que uma mulher mede 180\n",
    "\n",
    "centímetros, qual a probabilidade de alguém escolhido ao acaso ser maior que ela? Para responder à questão, crie uma função a(), sem parâmetros, que retorna a resposta da questão com uma precisão de 4 casas decimais.\n",
    "\n",
    "__Dica__:\n",
    "1. a função round(var, n) retorna o valor da variável var com uma precisão de n casas decimais.\n",
    "1. a classe `from scipy.stats.distributions import norm` implementa uma normal e já tem um método cdf e um método ppf (inverso da cdf)."
   ]
  },
  {
   "cell_type": "code",
   "execution_count": 2,
   "metadata": {
    "deletable": false,
    "nbgrader": {
     "checksum": "f4e11de49d009fd4232b792a2892666f",
     "grade": false,
     "grade_id": "cell-98e7ddcad81d69f5",
     "locked": false,
     "schema_version": 1,
     "solution": true
    }
   },
   "outputs": [
    {
     "data": {
      "text/plain": [
       "0.0122"
      ]
     },
     "execution_count": 2,
     "metadata": {},
     "output_type": "execute_result"
    }
   ],
   "source": [
    "# Crie aqui a função a() - com esse nome e sem parâmetros - \n",
    "# para retornar a resposta com precisão de 4 casas decimais!\n",
    "\n",
    "# YOUR CODE HERE\n",
    "from scipy.stats.distributions import norm\n",
    "\n",
    "# Note: P(X > x) = 1 - P(X <= x) = 1 - CDF(x)\n",
    "def a():\n",
    "    # loc -> média, scale -> desvio padrão\n",
    "    val = 1 - norm.cdf(180, loc=162, scale=8)\n",
    "    return round(val, 4)\n",
    "\n",
    "a()"
   ]
  },
  {
   "cell_type": "code",
   "execution_count": null,
   "metadata": {
    "deletable": false,
    "editable": false,
    "nbgrader": {
     "checksum": "f7c54776988c6db3e25e93d834b08c58",
     "grade": true,
     "grade_id": "cell-fbf34fa20fb08d7f",
     "locked": true,
     "points": 1,
     "schema_version": 1,
     "solution": false
    }
   },
   "outputs": [],
   "source": []
  },
  {
   "cell_type": "markdown",
   "metadata": {
    "deletable": false,
    "editable": false,
    "nbgrader": {
     "checksum": "a7e9b868299fd5928c925fc1724cfab8",
     "grade": false,
     "grade_id": "cell-15510104bc591c06",
     "locked": true,
     "schema_version": 1,
     "solution": false
    }
   },
   "source": [
    "(b) Uma treinadora dessa região quer montar uma equipe de basquete. Para isso, ela quer delimitar uma altura mínima $h$ que as jogadoras devem ter. Ele quer que $h$ seja maior que pelo menos $90\\%$ das alturas de mulheres daquela região. Qual o valor de $h$? Para responder à questão, crie uma função _b()_, sem parâmetros, que retorna a resposta da questão com uma precisão de 4 casas decimais.  \n",
    "\n",
    "__Dica:__  \n",
    "a função _round(var, n)_ ou _np.round(var, n)_ retorna o valor da variável var com uma precisão de n casas decimais."
   ]
  },
  {
   "cell_type": "code",
   "execution_count": 3,
   "metadata": {
    "deletable": false,
    "nbgrader": {
     "checksum": "ae35ce6357b273cd6fee822e7a4e632a",
     "grade": false,
     "grade_id": "cell-c3b2cf2cca494217",
     "locked": false,
     "schema_version": 1,
     "solution": true
    }
   },
   "outputs": [
    {
     "data": {
      "text/plain": [
       "172.2524"
      ]
     },
     "execution_count": 3,
     "metadata": {},
     "output_type": "execute_result"
    }
   ],
   "source": [
    "#Crie aqui a função b() - com esse nome e sem parâmetros - \n",
    "# para retornar a resposta com precisão de 4 casas decimais!\n",
    "\n",
    "# YOUR CODE HERE\n",
    "# No caso, usaremos PPF, pois temos a porcentagem e queremos o valor.\n",
    "def b():\n",
    "    # loc -> média, scale -> desvio padrão\n",
    "    h = norm.ppf(0.9, loc=162, scale=8)\n",
    "    return round(h, 4)\n",
    "\n",
    "b()"
   ]
  },
  {
   "cell_type": "code",
   "execution_count": null,
   "metadata": {
    "deletable": false,
    "editable": false,
    "nbgrader": {
     "checksum": "87e198e2b2d7353c619a7b119e507f82",
     "grade": true,
     "grade_id": "cell-f20b2d7bee29c16d",
     "locked": true,
     "points": 1,
     "schema_version": 1,
     "solution": false
    }
   },
   "outputs": [],
   "source": []
  },
  {
   "cell_type": "markdown",
   "metadata": {
    "deletable": false,
    "editable": false,
    "nbgrader": {
     "checksum": "3fa91db5eac83e6a97f7736590e27377",
     "grade": false,
     "grade_id": "cell-59a6d09a8ca24318",
     "locked": true,
     "schema_version": 1,
     "solution": false
    }
   },
   "source": [
    "# Exercício 02:\n",
    "\n",
    "\n",
    "As seguintes amostras foram geradas seguindo uma distribuição normal N($\\mu$, $\\sigma$), onde $\\mu$, $\\sigma$ não necessariamente são os mesmos para ambas. Nos histogramas gerados é possível visualizar essa distribuição."
   ]
  },
  {
   "cell_type": "code",
   "execution_count": 4,
   "metadata": {
    "deletable": false,
    "editable": false,
    "nbgrader": {
     "checksum": "38461183fae6f90a4f3b1d3f97ff9272",
     "grade": false,
     "grade_id": "cell-a553f82f599eb6f9",
     "locked": true,
     "schema_version": 1,
     "solution": false
    }
   },
   "outputs": [
    {
     "data": {
      "image/png": "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\n",
      "text/plain": [
       "<Figure size 432x288 with 1 Axes>"
      ]
     },
     "metadata": {
      "needs_background": "light"
     },
     "output_type": "display_data"
    },
    {
     "data": {
      "image/png": "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\n",
      "text/plain": [
       "<Figure size 432x288 with 1 Axes>"
      ]
     },
     "metadata": {
      "needs_background": "light"
     },
     "output_type": "display_data"
    }
   ],
   "source": [
    "dados1 = [3.8739066,4.4360658,3.0235970,6.1573843,3.7793704,3.6493491,7.2910457,3.7489513,5.9306145,5.3897872,\n",
    "          5.9091607,5.2491517,7.1163771,4.1930465,-0.1994626,3.2583011,5.9229948,1.8548338,4.8335581,5.2329008,\n",
    "          1.5683191,5.8756518,3.4215138,4.7900996,5.9530234,4.4550699,3.3868535,5.3060581,4.2124300,7.0123823,\n",
    "          4.9790184,2.2368825,3.9182012,5.4449732,5.7594690,5.4159924,3.5914275,3.4382886,4.0706780,6.9489863,\n",
    "          6.3269462,2.8740986,7.4210664,4.6413206,4.2209699,4.2009752,6.2509627,4.9137823,4.9171593,6.3367493]\n",
    "\n",
    "dados2 = [2.291049832,5.092164483,3.287501109,4.152289011,4.534256822,5.513028947,2.696660244,3.270482741,\n",
    "          5.435338467,6.244110011,1.363583509,5.385855994,6.069527998,2.148361858,6.471584096,4.953202949,\n",
    "          6.827787432,4.695468536,2.047598339,8.858080081,5.436394723,7.849470791,4.053545595,3.204185038,\n",
    "          2.400954454,-0.002092845,3.571868529,6.202897955,5.224842718,4.958476608,6.708545254 -0.115002497,\n",
    "          5.106492712,3.343396551,5.984204841,3.552744920,4.041155327,5.709103288,3.137316917,2.100906915,\n",
    "          4.379147487,0.536031040,4.777440348,5.610527663,3.802506385,3.484180306,7.316861806,2.965851553,\n",
    "          3.640560731,4.765175164,7.047545215,5.683723446,5.048988000,6.891720033,3.619091771,8.396155189,\n",
    "          5.317492252,2.376071049,4.383045321,7.386186468,6.554626718,5.020433071,3.577328839,5.534419417,\n",
    "          3.600534876,2.172314745,4.632719037,4.361328042,4.292156420,1.102889101,4.621840612,4.946746104,\n",
    "          6.182937650,5.415993589,4.346608293,2.896446739,3.516568382,6.972384719,3.233811405,4.048606672,\n",
    "          1.663547342,4.607297335 -0.753490459,3.205353052,1.269307121,0.962428478,4.718627886,4.686076530,\n",
    "          2.919118501,6.204058666,4.803050149,4.670632749,2.811395731,7.214950058,3.275492976,2.336357937,\n",
    "          8.494097155,6.473022507,8.525715511,4.364707111]\n",
    "\n",
    "plt.hist(dados1)\n",
    "plt.show()\n",
    "plt.hist(dados2)\n",
    "plt.show()"
   ]
  },
  {
   "cell_type": "markdown",
   "metadata": {
    "deletable": false,
    "editable": false,
    "nbgrader": {
     "checksum": "e7a65c53751413a3706995f755ef8ea3",
     "grade": false,
     "grade_id": "cell-bd6ee8e5354ecfe2",
     "locked": true,
     "schema_version": 1,
     "solution": false
    }
   },
   "source": [
    "__a)__ A partir dos histogramas, tente aproximar uma normal a cada um deles, desenhando-a sobre o histograma. Para isso, você deve estimar valores de $\\mu$ e $\\sigma$. Não se esqueça de normalizar os dados, ou seja, o eixo y deve estar um uma escala de 0 a (no máximo) 1!"
   ]
  },
  {
   "cell_type": "code",
   "execution_count": 5,
   "metadata": {
    "deletable": false,
    "nbgrader": {
     "checksum": "a2a9350e259f177d671ace9f62bda20e",
     "grade": false,
     "grade_id": "cell-58abe466e157835a",
     "locked": false,
     "schema_version": 1,
     "solution": true
    }
   },
   "outputs": [
    {
     "data": {
      "image/png": "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\n",
      "text/plain": [
       "<Figure size 432x288 with 1 Axes>"
      ]
     },
     "metadata": {
      "needs_background": "light"
     },
     "output_type": "display_data"
    },
    {
     "data": {
      "image/png": "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\n",
      "text/plain": [
       "<Figure size 432x288 with 1 Axes>"
      ]
     },
     "metadata": {
      "needs_background": "light"
     },
     "output_type": "display_data"
    }
   ],
   "source": [
    "# YOUR CODE HERE\n",
    "def gaussian(x, mu, sigma):\n",
    "    return (1 / (sigma * np.sqrt(2 * np.pi))) * np.exp(-(x - mu)**2 / (2 * sigma**2)) \n",
    "\n",
    "plt.hist(dados1, density=True)\n",
    "\n",
    "mu, sigma = np.mean(dados1), np.std(dados1, ddof=1)\n",
    "\n",
    "x = np.arange(np.min(dados1), np.max(dados1), 0.1)\n",
    "y = [gaussian(x, mu, sigma) for x in x]\n",
    "\n",
    "plt.plot(x, y, 'r', linewidth=5)\n",
    "plt.show()\n",
    "\n",
    "############################################################\n",
    "\n",
    "plt.hist(dados2, density=True)\n",
    "\n",
    "mu, sigma = np.mean(dados2), np.std(dados2, ddof=1)\n",
    "\n",
    "x = np.arange(np.min(dados2), np.max(dados2), 0.1)\n",
    "y = [gaussian(x, mu, sigma) for x in x]\n",
    "\n",
    "plt.plot(x, y, 'r', linewidth=5)\n",
    "plt.show()"
   ]
  },
  {
   "cell_type": "markdown",
   "metadata": {
    "deletable": false,
    "editable": false,
    "nbgrader": {
     "checksum": "df5b257253382e8cd5b058ab39d18b0a",
     "grade": false,
     "grade_id": "cell-7e634a02cc0a6274",
     "locked": true,
     "schema_version": 1,
     "solution": false
    }
   },
   "source": [
    "# Exercício 03:\n",
    "\n",
    "\n",
    "Dado uma tabela com informações sobre uma amostra com 20 alunos contendo a nota desses alunos em algumas disciplinas e os níveis de dificuldade das mesmas, crie uma função que retorne a probabilidade condicional estimada à partir dos dados para dois eventos dados, informando ainda se os eventos são independentes ou não. Ou seja, dado a tabela mostrada no exemplo (lista de listas) e dois eventos A e B, retorne a probabilidade condicional de A dado B (P(A|B)) com uma precisão de 4 casas decimais. O retorno da função, entretanto, deve ser uma frase (string) escrita da seguinte forma: _str: val_ onde _str_ é a string \"Independentes\" se os eventos A e B são independentes e \"Dependentes\" caso contrário e _val_ é o valor da probabilidade condicional P(A|B) com uma precisão de 4 casas decimais.\n",
    "\n",
    "\n",
    "__Dica:__  \n",
    "a função format(var, '.nf') retorna uma string com o valor da variável var com uma precisão de exatamente n casas decimais."
   ]
  },
  {
   "cell_type": "code",
   "execution_count": 6,
   "metadata": {
    "deletable": false,
    "nbgrader": {
     "checksum": "1e92c0f1112a4ed053526398137a0788",
     "grade": false,
     "grade_id": "cell-90ca1307d00c3011",
     "locked": false,
     "schema_version": 1,
     "solution": true
    }
   },
   "outputs": [
    {
     "name": "stdout",
     "output_type": "stream",
     "text": [
      "   dificuldade nota\n",
      "id                 \n",
      "1        Facil    C\n",
      "2        Facil    A\n",
      "3      Dificil    E\n",
      "4      Dificil    B\n",
      "5      Dificil    B\n",
      "6      Dificil    A\n",
      "7        Facil    D\n",
      "8      Dificil    C\n",
      "9        Facil    D\n",
      "10       Facil    C\n",
      "11       Facil    A\n",
      "12       Facil    A\n",
      "13     Dificil    B\n",
      "14     Dificil    C\n",
      "15     Dificil    E\n",
      "16     Dificil    C\n",
      "17       Facil    A\n",
      "18     Dificil    D\n",
      "19       Facil    B\n",
      "20       Facil    A\n"
     ]
    }
   ],
   "source": [
    "# Esses dados se referem às notas (A-E) de 20 alunos de acordo com a dificuldade da disciplina (Fácil ou Difícil) \n",
    "# Coluna 1: id do aluno\n",
    "# Coluna 2: dificuldade da disciplina ('Facil' ou 'Dificil')\n",
    "# Coluna 3: nota do aluno (A-E)\n",
    "data = [[1, 'Facil', 'C'],\n",
    "        [2, 'Facil', 'A'],\n",
    "        [3, 'Dificil', 'E'],\n",
    "        [4, 'Dificil', 'B'],\n",
    "        [5, 'Dificil', 'B'],\n",
    "        [6, 'Dificil', 'A'],\n",
    "        [7, 'Facil', 'D'],\n",
    "        [8, 'Dificil', 'C'],\n",
    "        [9, 'Facil', 'D'],\n",
    "        [10, 'Facil', 'C'],\n",
    "        [11, 'Facil', 'A'],\n",
    "        [12, 'Facil', 'A'],\n",
    "        [13, 'Dificil', 'B'],\n",
    "        [14, 'Dificil', 'C'],\n",
    "        [15, 'Dificil', 'E'],\n",
    "        [16, 'Dificil', 'C'],\n",
    "        [17, 'Facil', 'A'],\n",
    "        [18, 'Dificil', 'D'],\n",
    "        [19, 'Facil', 'B'],\n",
    "        [20, 'Facil', 'A']]\n",
    "data = pd.DataFrame(data, columns=['id', 'dificuldade', 'nota'])\n",
    "data = data.set_index('id')\n",
    "print(data)\n",
    "\n",
    "def prob_cond(df, valor_nota: 'considere como A no bayes', valor_dificuldade: 'considere como B no bayes'):\n",
    "    # Filtrando sobre a condição B\n",
    "    notas = df[df['dificuldade'] == valor_dificuldade]['nota']\n",
    "    \n",
    "    # Calculando a probabilidade\n",
    "    prob = (notas == valor_nota).sum() / notas.size\n",
    "    \n",
    "    # Verificando se os eventos são dependentes ou não. Lembrando, se P(A|B) = P(A), então são independentes.\n",
    "    notas = df['nota']\n",
    "    pA = (notas == valor_nota).sum() / notas.size\n",
    "    \n",
    "    if prob == pA:\n",
    "        return 'Independentes: {:4.4f}'.format(prob)\n",
    "    else:\n",
    "        return 'Dependentes: {:4.4f}'.format(prob)"
   ]
  },
  {
   "cell_type": "code",
   "execution_count": 7,
   "metadata": {
    "deletable": false,
    "editable": false,
    "nbgrader": {
     "checksum": "437b11af3dfa1362e73fa07bb0539f0e",
     "grade": true,
     "grade_id": "cell-7fda9ffd35d685a6",
     "locked": true,
     "points": 1,
     "schema_version": 1,
     "solution": false
    }
   },
   "outputs": [],
   "source": [
    "\"\"\"Check that prob_cond returns the correct output for several inputs\"\"\"\n",
    "\n",
    "assert_equal(prob_cond(data, 'A', 'Facil'), 'Dependentes: 0.5000')\n",
    "assert_equal(prob_cond(data, 'E', 'Facil'), 'Dependentes: 0.0000')\n",
    "assert_equal(prob_cond(data, 'A', 'Dificil'), 'Dependentes: 0.1000')\n",
    "assert_equal(prob_cond(data, 'E', 'Dificil'), 'Dependentes: 0.2000')"
   ]
  },
  {
   "cell_type": "code",
   "execution_count": null,
   "metadata": {
    "deletable": false,
    "editable": false,
    "nbgrader": {
     "checksum": "1117e2f85c9b33dff873707840491059",
     "grade": true,
     "grade_id": "cell-f0c1dad559960dad",
     "locked": true,
     "points": 1,
     "schema_version": 1,
     "solution": false
    }
   },
   "outputs": [],
   "source": []
  },
  {
   "cell_type": "markdown",
   "metadata": {
    "deletable": false,
    "editable": false,
    "nbgrader": {
     "checksum": "a9e9eac9af8310642b64964c6e3315d4",
     "grade": false,
     "grade_id": "cell1c-a00",
     "locked": true,
     "schema_version": 1,
     "solution": false
    }
   },
   "source": [
    "# Exercício 04:\n",
    "\n",
    "\n",
    "Utilizando os dados de acidentes fatais em companhias aéreas dos Estados Unidos de 1985 a 1999, calcule algumas estatísticas básicas. Você deve retornar uma __lista__ com os valores das estatísticas calculadas, sendo elas, nessa ordem: menor valor, maior valor, média, mediana, variância e desvio-padrão. Para responder à questão, crie uma função _estat(acidentes)_ que retorna a lista com os valores correspondentes às resposta da questão, inteiros quando forem inteiros ou com uma precisão de 4 casas decimais caso contrário.\n",
    "\n",
    "__Teste:__\n",
    "`assert_equal(estat(acidentes), ans)`, sendo que `ans` é uma lista contendo os valores corretos para as estatísticas que este exercício pede.\n",
    "\n",
    "__Dicas:__  \n",
    "1) A função round(var, n) retorna o valor da variável var com uma precisão de n casas decimais.\n",
    "\n",
    "2) Execute o teste `assert_equal(estat(lista_boba), ans_bobo)` para alguma `lista_boba` que você saiba calcular as estatísticas no papel.\n",
    "\n",
    "\n",
    "__Fonte:__ https://aviation-safety.net/"
   ]
  },
  {
   "cell_type": "code",
   "execution_count": 8,
   "metadata": {
    "deletable": false,
    "nbgrader": {
     "checksum": "880db9dff7038586993103b01f6edda6",
     "grade": false,
     "grade_id": "cell1-a00",
     "locked": false,
     "schema_version": 1,
     "solution": true
    }
   },
   "outputs": [
    {
     "data": {
      "text/plain": [
       "[0, 14, 2.1786, 1.0, 8.0395, 2.8354]"
      ]
     },
     "execution_count": 8,
     "metadata": {},
     "output_type": "execute_result"
    }
   ],
   "source": [
    "# Crie aqui a função estat(acidentes) - com esse nome e parâmetro - \n",
    "# a função deve retornar a lista com as respostas com precisão de 4 casas decimais!\n",
    "\n",
    "acidentes = [0,14,0,1,0,4,1,0,0,2,1,5,0,3,0,0,6,1,1,12,3,1,5,0,3,0,0,1,1,0,1,5,2,1,1,3,4,0,3,0,2,2,1,0,1,1,1,3,0,4,3,8,7,3,0,1]\n",
    "\n",
    "# YOUR CODE HERE\n",
    "# Note que ddof = 0\n",
    "def estat(acidentes):\n",
    "    result = []\n",
    "    result.append(np.min(acidentes))\n",
    "    result.append(np.max(acidentes))\n",
    "    result.append(round(np.mean(acidentes), 4))\n",
    "    result.append(np.median(acidentes))\n",
    "    result.append(round(np.var(acidentes), 4))\n",
    "    result.append(round(np.std(acidentes), 4))\n",
    "    \n",
    "    return result\n",
    "\n",
    "estat(acidentes)"
   ]
  },
  {
   "cell_type": "code",
   "execution_count": null,
   "metadata": {
    "deletable": false,
    "editable": false,
    "nbgrader": {
     "checksum": "752c9d5b0e9fbba86ba76e2731cebd7b",
     "grade": true,
     "grade_id": "cell1t-a00",
     "locked": true,
     "points": 1,
     "schema_version": 1,
     "solution": false
    }
   },
   "outputs": [],
   "source": []
  },
  {
   "cell_type": "markdown",
   "metadata": {
    "deletable": false,
    "editable": false,
    "nbgrader": {
     "checksum": "3f30c30d62caa22538ab5156a3188c15",
     "grade": false,
     "grade_id": "cell2c-a00",
     "locked": true,
     "schema_version": 1,
     "solution": false
    }
   },
   "source": [
    "# Exercício 05:\n",
    "\n",
    "\n",
    "Procure encontrar correlações espúrias interessantes e apresente um exemplo encontrado. Ou seja, aprensente dois conjuntos de dados que possuem alta correlação (muito positivas ou muito negativas) sem que um seja de fato o causador do outro. Além disso, deixe resgistrado os gráficos com a distribuição dos dados e um gráfico de dispersão como forma de visualizar a correlação entre os dados. Calcule a covariância e correlação entre os dados e, por fim, se possível, tente explicar qual poderia ser a verdadeira causa da ocorrência das observações. Para isso, utilize a última célula desse notebook.\n",
    "\n",
    "\n",
    "__Observação:__  \n",
    "Para ideias de correlações espúrias, veja os seguintes sites:  \n",
    "http://tylervigen.com/spurious-correlations  \n",
    "https://en.wikipedia.org/wiki/Spurious_relationship#Other_relationships  \n"
   ]
  },
  {
   "cell_type": "code",
   "execution_count": 9,
   "metadata": {
    "deletable": false,
    "nbgrader": {
     "checksum": "4f74225398e8bdbfa829d72a445b0395",
     "grade": true,
     "grade_id": "cell21-a00",
     "locked": false,
     "points": 1,
     "schema_version": 1,
     "solution": true
    },
    "scrolled": true
   },
   "outputs": [
    {
     "data": {
      "image/png": "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\n",
      "text/plain": [
       "<Figure size 432x288 with 1 Axes>"
      ]
     },
     "metadata": {
      "needs_background": "light"
     },
     "output_type": "display_data"
    },
    {
     "data": {
      "image/png": "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\n",
      "text/plain": [
       "<Figure size 432x288 with 1 Axes>"
      ]
     },
     "metadata": {
      "needs_background": "light"
     },
     "output_type": "display_data"
    }
   ],
   "source": [
    "years = range(2000, 2010)\n",
    "nAwards = [861, 830, 809, 867, 948, 1129, 1453, 1656, 1787, 1611]\n",
    "arcadeRevenue = [1.196, 1.176, 1.269, 1.24, 1.307, 1.453, 1.601, 1.654, 1.803, 1.734]\n",
    "\n",
    "plt.title('Doutorados em Ciência da Computação premiados nos EUA')\n",
    "plt.xlabel('Anos')\n",
    "plt.ylabel('Doutorados em CC')\n",
    "plt.scatter(years, nAwards, c='b')\n",
    "plt.show()\n",
    "\n",
    "plt.title('Receita total dos arcades')\n",
    "plt.xlabel('Anos')\n",
    "plt.ylabel('Receita em bilhões de dólares')\n",
    "plt.scatter(years, arcadeRevenue, c='r')\n",
    "plt.show()"
   ]
  },
  {
   "cell_type": "code",
   "execution_count": 10,
   "metadata": {},
   "outputs": [
    {
     "name": "stdout",
     "output_type": "stream",
     "text": [
      "[[1.         0.98358007]\n",
      " [0.98358007 1.        ]]\n"
     ]
    }
   ],
   "source": [
    "''' Exibindo a matriz de correlação entre as variáveis '''\n",
    "print(np.corrcoef(nAwards, arcadeRevenue))"
   ]
  },
  {
   "cell_type": "code",
   "execution_count": 11,
   "metadata": {},
   "outputs": [
    {
     "name": "stdout",
     "output_type": "stream",
     "text": [
      "[[1.52147878e+05 9.09826333e+01]\n",
      " [9.09826333e+01 5.62382333e-02]]\n"
     ]
    }
   ],
   "source": [
    "''' Exibindo a matriz de covariância entre as variáveis '''\n",
    "X = np.stack((nAwards, arcadeRevenue), axis=0)\n",
    "print(np.cov(X))"
   ]
  },
  {
   "cell_type": "markdown",
   "metadata": {},
   "source": [
    "Não consigo enxergar nenhuma justificativa para explicar a verdadeira causa da ocorrência das observações"
   ]
  }
 ],
 "metadata": {
  "kernelspec": {
   "display_name": "Python 3",
   "language": "python",
   "name": "python3"
  },
  "language_info": {
   "codemirror_mode": {
    "name": "ipython",
    "version": 3
   },
   "file_extension": ".py",
   "mimetype": "text/x-python",
   "name": "python",
   "nbconvert_exporter": "python",
   "pygments_lexer": "ipython3",
   "version": "3.5.6"
  }
 },
 "nbformat": 4,
 "nbformat_minor": 2
}
=======
{
 "cells": [
  {
   "cell_type": "markdown",
   "metadata": {
    "deletable": false,
    "editable": false,
    "nbgrader": {
     "checksum": "eaf0c7f6324b9d7a98af39784e325a59",
     "grade": false,
     "grade_id": "cellc-a00",
     "locked": true,
     "schema_version": 1,
     "solution": false
    }
   },
   "source": [
    "# Lista 02 - Probabilidade + Estatística"
   ]
  },
  {
   "cell_type": "code",
   "execution_count": 1,
   "metadata": {
    "deletable": false,
    "editable": false,
    "nbgrader": {
     "checksum": "33ab7cb5c99e9e9ec290a223f69051e9",
     "grade": false,
     "grade_id": "cell-d52aeab7f55b79f3",
     "locked": true,
     "schema_version": 1,
     "solution": false
    }
   },
   "outputs": [],
   "source": [
    "import matplotlib.pyplot as plt\n",
    "import numpy as np\n",
    "import pandas as pd\n",
    "\n",
    "from numpy.testing import *\n",
    "from scipy import stats as ss\n",
    "\n",
    "plt.style.use('seaborn-colorblind')\n",
    "plt.ion()"
   ]
  },
  {
   "cell_type": "markdown",
   "metadata": {
    "deletable": false,
    "editable": false,
    "nbgrader": {
     "checksum": "fa204a34b383dedd4e2cca5c2ab531fc",
     "grade": false,
     "grade_id": "cell-b6fd0cae1e2c20ba",
     "locked": true,
     "schema_version": 1,
     "solution": false
    }
   },
   "source": [
    "# Exercício 01:\n",
    "\n",
    "\n",
    "Suponha que a altura de mulheres adultas de algumas regiões seguem uma distribuição normal com $\\mu = 162$ centímetros e $\\sigma = 8$. Nesse caso, responda às perguntas abaixo:"
   ]
  },
  {
   "cell_type": "markdown",
   "metadata": {
    "deletable": false,
    "editable": false,
    "nbgrader": {
     "checksum": "41d492c263910d26f137958cfb6ddbd9",
     "grade": false,
     "grade_id": "cell-23841d1381e158d6",
     "locked": true,
     "schema_version": 1,
     "solution": false
    }
   },
   "source": [
    "ID:\n",
    "\n",
    "(a) Dado que uma mulher mede 180\n",
    "\n",
    "centímetros, qual a probabilidade de alguém escolhido ao acaso ser maior que ela? Para responder à questão, crie uma função a(), sem parâmetros, que retorna a resposta da questão com uma precisão de 4 casas decimais.\n",
    "\n",
    "__Dica__:\n",
    "1. a função round(var, n) retorna o valor da variável var com uma precisão de n casas decimais.\n",
    "1. a classe `from scipy.stats.distributions import norm` implementa uma normal e já tem um método cdf e um método ppf (inverso da cdf)."
   ]
  },
  {
   "cell_type": "code",
   "execution_count": 2,
   "metadata": {
    "deletable": false,
    "nbgrader": {
     "checksum": "f4e11de49d009fd4232b792a2892666f",
     "grade": false,
     "grade_id": "cell-98e7ddcad81d69f5",
     "locked": false,
     "schema_version": 1,
     "solution": true
    }
   },
   "outputs": [
    {
     "data": {
      "text/plain": [
       "0.0122"
      ]
     },
     "execution_count": 2,
     "metadata": {},
     "output_type": "execute_result"
    }
   ],
   "source": [
    "# Crie aqui a função a() - com esse nome e sem parâmetros - \n",
    "# para retornar a resposta com precisão de 4 casas decimais!\n",
    "\n",
    "# YOUR CODE HERE\n",
    "from scipy.stats.distributions import norm\n",
    "\n",
    "# Note: P(X > x) = 1 - P(X <= x) = 1 - CDF(x)\n",
    "def a():\n",
    "    # loc -> média, scale -> desvio padrão\n",
    "    val = 1 - norm.cdf(180, loc=162, scale=8)\n",
    "    return round(val, 4)\n",
    "\n",
    "a()"
   ]
  },
  {
   "cell_type": "code",
   "execution_count": null,
   "metadata": {
    "deletable": false,
    "editable": false,
    "nbgrader": {
     "checksum": "f7c54776988c6db3e25e93d834b08c58",
     "grade": true,
     "grade_id": "cell-fbf34fa20fb08d7f",
     "locked": true,
     "points": 1,
     "schema_version": 1,
     "solution": false
    }
   },
   "outputs": [],
   "source": []
  },
  {
   "cell_type": "markdown",
   "metadata": {
    "deletable": false,
    "editable": false,
    "nbgrader": {
     "checksum": "a7e9b868299fd5928c925fc1724cfab8",
     "grade": false,
     "grade_id": "cell-15510104bc591c06",
     "locked": true,
     "schema_version": 1,
     "solution": false
    }
   },
   "source": [
    "(b) Uma treinadora dessa região quer montar uma equipe de basquete. Para isso, ela quer delimitar uma altura mínima $h$ que as jogadoras devem ter. Ele quer que $h$ seja maior que pelo menos $90\\%$ das alturas de mulheres daquela região. Qual o valor de $h$? Para responder à questão, crie uma função _b()_, sem parâmetros, que retorna a resposta da questão com uma precisão de 4 casas decimais.  \n",
    "\n",
    "__Dica:__  \n",
    "a função _round(var, n)_ ou _np.round(var, n)_ retorna o valor da variável var com uma precisão de n casas decimais."
   ]
  },
  {
   "cell_type": "code",
   "execution_count": 3,
   "metadata": {
    "deletable": false,
    "nbgrader": {
     "checksum": "ae35ce6357b273cd6fee822e7a4e632a",
     "grade": false,
     "grade_id": "cell-c3b2cf2cca494217",
     "locked": false,
     "schema_version": 1,
     "solution": true
    }
   },
   "outputs": [
    {
     "data": {
      "text/plain": [
       "172.2524"
      ]
     },
     "execution_count": 3,
     "metadata": {},
     "output_type": "execute_result"
    }
   ],
   "source": [
    "#Crie aqui a função b() - com esse nome e sem parâmetros - \n",
    "# para retornar a resposta com precisão de 4 casas decimais!\n",
    "\n",
    "# YOUR CODE HERE\n",
    "# No caso, usaremos PPF, pois temos a porcentagem e queremos o valor.\n",
    "def b():\n",
    "    # loc -> média, scale -> desvio padrão\n",
    "    h = norm.ppf(0.9, loc=162, scale=8)\n",
    "    return round(h, 4)\n",
    "\n",
    "b()"
   ]
  },
  {
   "cell_type": "code",
   "execution_count": null,
   "metadata": {
    "deletable": false,
    "editable": false,
    "nbgrader": {
     "checksum": "87e198e2b2d7353c619a7b119e507f82",
     "grade": true,
     "grade_id": "cell-f20b2d7bee29c16d",
     "locked": true,
     "points": 1,
     "schema_version": 1,
     "solution": false
    }
   },
   "outputs": [],
   "source": []
  },
  {
   "cell_type": "markdown",
   "metadata": {
    "deletable": false,
    "editable": false,
    "nbgrader": {
     "checksum": "3fa91db5eac83e6a97f7736590e27377",
     "grade": false,
     "grade_id": "cell-59a6d09a8ca24318",
     "locked": true,
     "schema_version": 1,
     "solution": false
    }
   },
   "source": [
    "# Exercício 02:\n",
    "\n",
    "\n",
    "As seguintes amostras foram geradas seguindo uma distribuição normal N($\\mu$, $\\sigma$), onde $\\mu$, $\\sigma$ não necessariamente são os mesmos para ambas. Nos histogramas gerados é possível visualizar essa distribuição."
   ]
  },
  {
   "cell_type": "code",
   "execution_count": 4,
   "metadata": {
    "deletable": false,
    "editable": false,
    "nbgrader": {
     "checksum": "38461183fae6f90a4f3b1d3f97ff9272",
     "grade": false,
     "grade_id": "cell-a553f82f599eb6f9",
     "locked": true,
     "schema_version": 1,
     "solution": false
    }
   },
   "outputs": [
    {
     "data": {
      "image/png": "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\n",
      "text/plain": [
       "<Figure size 432x288 with 1 Axes>"
      ]
     },
     "metadata": {
      "needs_background": "light"
     },
     "output_type": "display_data"
    },
    {
     "data": {
      "image/png": "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\n",
      "text/plain": [
       "<Figure size 432x288 with 1 Axes>"
      ]
     },
     "metadata": {
      "needs_background": "light"
     },
     "output_type": "display_data"
    }
   ],
   "source": [
    "dados1 = [3.8739066,4.4360658,3.0235970,6.1573843,3.7793704,3.6493491,7.2910457,3.7489513,5.9306145,5.3897872,\n",
    "          5.9091607,5.2491517,7.1163771,4.1930465,-0.1994626,3.2583011,5.9229948,1.8548338,4.8335581,5.2329008,\n",
    "          1.5683191,5.8756518,3.4215138,4.7900996,5.9530234,4.4550699,3.3868535,5.3060581,4.2124300,7.0123823,\n",
    "          4.9790184,2.2368825,3.9182012,5.4449732,5.7594690,5.4159924,3.5914275,3.4382886,4.0706780,6.9489863,\n",
    "          6.3269462,2.8740986,7.4210664,4.6413206,4.2209699,4.2009752,6.2509627,4.9137823,4.9171593,6.3367493]\n",
    "\n",
    "dados2 = [2.291049832,5.092164483,3.287501109,4.152289011,4.534256822,5.513028947,2.696660244,3.270482741,\n",
    "          5.435338467,6.244110011,1.363583509,5.385855994,6.069527998,2.148361858,6.471584096,4.953202949,\n",
    "          6.827787432,4.695468536,2.047598339,8.858080081,5.436394723,7.849470791,4.053545595,3.204185038,\n",
    "          2.400954454,-0.002092845,3.571868529,6.202897955,5.224842718,4.958476608,6.708545254 -0.115002497,\n",
    "          5.106492712,3.343396551,5.984204841,3.552744920,4.041155327,5.709103288,3.137316917,2.100906915,\n",
    "          4.379147487,0.536031040,4.777440348,5.610527663,3.802506385,3.484180306,7.316861806,2.965851553,\n",
    "          3.640560731,4.765175164,7.047545215,5.683723446,5.048988000,6.891720033,3.619091771,8.396155189,\n",
    "          5.317492252,2.376071049,4.383045321,7.386186468,6.554626718,5.020433071,3.577328839,5.534419417,\n",
    "          3.600534876,2.172314745,4.632719037,4.361328042,4.292156420,1.102889101,4.621840612,4.946746104,\n",
    "          6.182937650,5.415993589,4.346608293,2.896446739,3.516568382,6.972384719,3.233811405,4.048606672,\n",
    "          1.663547342,4.607297335 -0.753490459,3.205353052,1.269307121,0.962428478,4.718627886,4.686076530,\n",
    "          2.919118501,6.204058666,4.803050149,4.670632749,2.811395731,7.214950058,3.275492976,2.336357937,\n",
    "          8.494097155,6.473022507,8.525715511,4.364707111]\n",
    "\n",
    "plt.hist(dados1)\n",
    "plt.show()\n",
    "plt.hist(dados2)\n",
    "plt.show()"
   ]
  },
  {
   "cell_type": "markdown",
   "metadata": {
    "deletable": false,
    "editable": false,
    "nbgrader": {
     "checksum": "e7a65c53751413a3706995f755ef8ea3",
     "grade": false,
     "grade_id": "cell-bd6ee8e5354ecfe2",
     "locked": true,
     "schema_version": 1,
     "solution": false
    }
   },
   "source": [
    "__a)__ A partir dos histogramas, tente aproximar uma normal a cada um deles, desenhando-a sobre o histograma. Para isso, você deve estimar valores de $\\mu$ e $\\sigma$. Não se esqueça de normalizar os dados, ou seja, o eixo y deve estar um uma escala de 0 a (no máximo) 1!"
   ]
  },
  {
   "cell_type": "code",
   "execution_count": 5,
   "metadata": {
    "deletable": false,
    "nbgrader": {
     "checksum": "a2a9350e259f177d671ace9f62bda20e",
     "grade": false,
     "grade_id": "cell-58abe466e157835a",
     "locked": false,
     "schema_version": 1,
     "solution": true
    }
   },
   "outputs": [
    {
     "data": {
      "image/png": "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\n",
      "text/plain": [
       "<Figure size 432x288 with 1 Axes>"
      ]
     },
     "metadata": {
      "needs_background": "light"
     },
     "output_type": "display_data"
    },
    {
     "data": {
      "image/png": "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\n",
      "text/plain": [
       "<Figure size 432x288 with 1 Axes>"
      ]
     },
     "metadata": {
      "needs_background": "light"
     },
     "output_type": "display_data"
    }
   ],
   "source": [
    "# YOUR CODE HERE\n",
    "def gaussian(x, mu, sigma):\n",
    "    return (1 / (sigma * np.sqrt(2 * np.pi))) * np.exp(-(x - mu)**2 / (2 * sigma**2)) \n",
    "\n",
    "plt.hist(dados1, density=True)\n",
    "\n",
    "mu, sigma = np.mean(dados1), np.std(dados1, ddof=1)\n",
    "\n",
    "x = np.arange(np.min(dados1), np.max(dados1), 0.1)\n",
    "y = [gaussian(x, mu, sigma) for x in x]\n",
    "\n",
    "plt.plot(x, y, 'r', linewidth=5)\n",
    "plt.show()\n",
    "\n",
    "############################################################33\n",
    "\n",
    "plt.hist(dados2, density=True)\n",
    "\n",
    "mu, sigma = np.mean(dados2), np.std(dados2, ddof=1)\n",
    "\n",
    "x = np.arange(np.min(dados2), np.max(dados2), 0.1)\n",
    "y = [gaussian(x, mu, sigma) for x in x]\n",
    "\n",
    "plt.plot(x, y, 'r', linewidth=5)\n",
    "plt.show()"
   ]
  },
  {
   "cell_type": "markdown",
   "metadata": {
    "deletable": false,
    "editable": false,
    "nbgrader": {
     "checksum": "df5b257253382e8cd5b058ab39d18b0a",
     "grade": false,
     "grade_id": "cell-7e634a02cc0a6274",
     "locked": true,
     "schema_version": 1,
     "solution": false
    }
   },
   "source": [
    "# Exercício 03:\n",
    "\n",
    "\n",
    "Dado uma tabela com informações sobre uma amostra com 20 alunos contendo a nota desses alunos em algumas disciplinas e os níveis de dificuldade das mesmas, crie uma função que retorne a probabilidade condicional estimada à partir dos dados para dois eventos dados, informando ainda se os eventos são independentes ou não. Ou seja, dado a tabela mostrada no exemplo (lista de listas) e dois eventos A e B, retorne a probabilidade condicional de A dado B (P(A|B)) com uma precisão de 4 casas decimais. O retorno da função, entretanto, deve ser uma frase (string) escrita da seguinte forma: _str: val_ onde _str_ é a string \"Independentes\" se os eventos A e B são independentes e \"Dependentes\" caso contrário e _val_ é o valor da probabilidade condicional P(A|B) com uma precisão de 4 casas decimais.\n",
    "\n",
    "\n",
    "__Dica:__  \n",
    "a função format(var, '.nf') retorna uma string com o valor da variável var com uma precisão de exatamente n casas decimais."
   ]
  },
  {
   "cell_type": "code",
   "execution_count": 6,
   "metadata": {
    "deletable": false,
    "nbgrader": {
     "checksum": "1e92c0f1112a4ed053526398137a0788",
     "grade": false,
     "grade_id": "cell-90ca1307d00c3011",
     "locked": false,
     "schema_version": 1,
     "solution": true
    }
   },
   "outputs": [
    {
     "name": "stdout",
     "output_type": "stream",
     "text": [
      "   dificuldade nota\n",
      "id                 \n",
      "1        Facil    C\n",
      "2        Facil    A\n",
      "3      Dificil    E\n",
      "4      Dificil    B\n",
      "5      Dificil    B\n",
      "6      Dificil    A\n",
      "7        Facil    D\n",
      "8      Dificil    C\n",
      "9        Facil    D\n",
      "10       Facil    C\n",
      "11       Facil    A\n",
      "12       Facil    A\n",
      "13     Dificil    B\n",
      "14     Dificil    C\n",
      "15     Dificil    E\n",
      "16     Dificil    C\n",
      "17       Facil    A\n",
      "18     Dificil    D\n",
      "19       Facil    B\n",
      "20       Facil    A\n"
     ]
    }
   ],
   "source": [
    "# Esses dados se referem às notas (A-E) de 20 alunos de acordo com a dificuldade da disciplina (Fácil ou Difícil) \n",
    "# Coluna 1: id do aluno\n",
    "# Coluna 2: dificuldade da disciplina ('Facil' ou 'Dificil')\n",
    "# Coluna 3: nota do aluno (A-E)\n",
    "data = [[1, 'Facil', 'C'],\n",
    "        [2, 'Facil', 'A'],\n",
    "        [3, 'Dificil', 'E'],\n",
    "        [4, 'Dificil', 'B'],\n",
    "        [5, 'Dificil', 'B'],\n",
    "        [6, 'Dificil', 'A'],\n",
    "        [7, 'Facil', 'D'],\n",
    "        [8, 'Dificil', 'C'],\n",
    "        [9, 'Facil', 'D'],\n",
    "        [10, 'Facil', 'C'],\n",
    "        [11, 'Facil', 'A'],\n",
    "        [12, 'Facil', 'A'],\n",
    "        [13, 'Dificil', 'B'],\n",
    "        [14, 'Dificil', 'C'],\n",
    "        [15, 'Dificil', 'E'],\n",
    "        [16, 'Dificil', 'C'],\n",
    "        [17, 'Facil', 'A'],\n",
    "        [18, 'Dificil', 'D'],\n",
    "        [19, 'Facil', 'B'],\n",
    "        [20, 'Facil', 'A']]\n",
    "data = pd.DataFrame(data, columns=['id', 'dificuldade', 'nota'])\n",
    "data = data.set_index('id')\n",
    "print(data)\n",
    "\n",
    "def prob_cond(df, valor_nota: 'considere como A no bayes', valor_dificuldade: 'considere como B no bayes'):\n",
    "    # Filtrando sobre a condição B\n",
    "    notas = df[df['dificuldade'] == valor_dificuldade]['nota']\n",
    "    \n",
    "    # Calculando a probabilidade\n",
    "    prob = (notas == valor_nota).sum() / notas.size\n",
    "    \n",
    "    # Verificando se os eventos são dependentes ou não. Lembrando, se P(A|B) = P(A), então são independentes.\n",
    "    notas = df['nota']\n",
    "    pA = (notas == valor_nota).sum() / notas.size\n",
    "    \n",
    "    if prob == pA:\n",
    "        return 'Independentes: {:4.4f}'.format(prob)\n",
    "    else:\n",
    "        return 'Dependentes: {:4.4f}'.format(prob)"
   ]
  },
  {
   "cell_type": "code",
   "execution_count": 7,
   "metadata": {
    "deletable": false,
    "editable": false,
    "nbgrader": {
     "checksum": "437b11af3dfa1362e73fa07bb0539f0e",
     "grade": true,
     "grade_id": "cell-7fda9ffd35d685a6",
     "locked": true,
     "points": 1,
     "schema_version": 1,
     "solution": false
    }
   },
   "outputs": [],
   "source": [
    "\"\"\"Check that prob_cond returns the correct output for several inputs\"\"\"\n",
    "\n",
    "assert_equal(prob_cond(data, 'A', 'Facil'), 'Dependentes: 0.5000')\n",
    "assert_equal(prob_cond(data, 'E', 'Facil'), 'Dependentes: 0.0000')\n",
    "assert_equal(prob_cond(data, 'A', 'Dificil'), 'Dependentes: 0.1000')\n",
    "assert_equal(prob_cond(data, 'E', 'Dificil'), 'Dependentes: 0.2000')"
   ]
  },
  {
   "cell_type": "code",
   "execution_count": null,
   "metadata": {
    "deletable": false,
    "editable": false,
    "nbgrader": {
     "checksum": "1117e2f85c9b33dff873707840491059",
     "grade": true,
     "grade_id": "cell-f0c1dad559960dad",
     "locked": true,
     "points": 1,
     "schema_version": 1,
     "solution": false
    }
   },
   "outputs": [],
   "source": []
  },
  {
   "cell_type": "markdown",
   "metadata": {
    "deletable": false,
    "editable": false,
    "nbgrader": {
     "checksum": "a9e9eac9af8310642b64964c6e3315d4",
     "grade": false,
     "grade_id": "cell1c-a00",
     "locked": true,
     "schema_version": 1,
     "solution": false
    }
   },
   "source": [
    "# Exercício 04:\n",
    "\n",
    "\n",
    "Utilizando os dados de acidentes fatais em companhias aéreas dos Estados Unidos de 1985 a 1999, calcule algumas estatísticas básicas. Você deve retornar uma __lista__ com os valores das estatísticas calculadas, sendo elas, nessa ordem: menor valor, maior valor, média, mediana, variância e desvio-padrão. Para responder à questão, crie uma função _estat(acidentes)_ que retorna a lista com os valores correspondentes às resposta da questão, inteiros quando forem inteiros ou com uma precisão de 4 casas decimais caso contrário.\n",
    "\n",
    "__Teste:__\n",
    "`assert_equal(estat(acidentes), ans)`, sendo que `ans` é uma lista contendo os valores corretos para as estatísticas que este exercício pede.\n",
    "\n",
    "__Dicas:__  \n",
    "1) A função round(var, n) retorna o valor da variável var com uma precisão de n casas decimais.\n",
    "\n",
    "2) Execute o teste `assert_equal(estat(lista_boba), ans_bobo)` para alguma `lista_boba` que você saiba calcular as estatísticas no papel.\n",
    "\n",
    "\n",
    "__Fonte:__ https://aviation-safety.net/"
   ]
  },
  {
   "cell_type": "code",
   "execution_count": 8,
   "metadata": {
    "deletable": false,
    "nbgrader": {
     "checksum": "880db9dff7038586993103b01f6edda6",
     "grade": false,
     "grade_id": "cell1-a00",
     "locked": false,
     "schema_version": 1,
     "solution": true
    }
   },
   "outputs": [
    {
     "data": {
      "text/plain": [
       "[0, 14, 2.1786, 1.0, 8.0395, 2.8354]"
      ]
     },
     "execution_count": 8,
     "metadata": {},
     "output_type": "execute_result"
    }
   ],
   "source": [
    "# Crie aqui a função estat(acidentes) - com esse nome e parâmetro - \n",
    "# a função deve retornar a lista com as respostas com precisão de 4 casas decimais!\n",
    "\n",
    "acidentes = [0,14,0,1,0,4,1,0,0,2,1,5,0,3,0,0,6,1,1,12,3,1,5,0,3,0,0,1,1,0,1,5,2,1,1,3,4,0,3,0,2,2,1,0,1,1,1,3,0,4,3,8,7,3,0,1]\n",
    "\n",
    "# YOUR CODE HERE\n",
    "# Note que ddof = 0\n",
    "def estat(acidentes):\n",
    "    result = []\n",
    "    result.append(np.min(acidentes))\n",
    "    result.append(np.max(acidentes))\n",
    "    result.append(round(np.mean(acidentes), 4))\n",
    "    result.append(np.median(acidentes))\n",
    "    result.append(round(np.var(acidentes), 4))\n",
    "    result.append(round(np.std(acidentes), 4))\n",
    "    \n",
    "    return result\n",
    "\n",
    "estat(acidentes)"
   ]
  },
  {
   "cell_type": "code",
   "execution_count": null,
   "metadata": {
    "deletable": false,
    "editable": false,
    "nbgrader": {
     "checksum": "752c9d5b0e9fbba86ba76e2731cebd7b",
     "grade": true,
     "grade_id": "cell1t-a00",
     "locked": true,
     "points": 1,
     "schema_version": 1,
     "solution": false
    }
   },
   "outputs": [],
   "source": []
  },
  {
   "cell_type": "markdown",
   "metadata": {
    "deletable": false,
    "editable": false,
    "nbgrader": {
     "checksum": "3f30c30d62caa22538ab5156a3188c15",
     "grade": false,
     "grade_id": "cell2c-a00",
     "locked": true,
     "schema_version": 1,
     "solution": false
    }
   },
   "source": [
    "# Exercício 05:\n",
    "\n",
    "\n",
    "Procure encontrar correlações espúrias interessantes e apresente um exemplo encontrado. Ou seja, aprensente dois conjuntos de dados que possuem alta correlação (muito positivas ou muito negativas) sem que um seja de fato o causador do outro. Além disso, deixe resgistrado os gráficos com a distribuição dos dados e um gráfico de dispersão como forma de visualizar a correlação entre os dados. Calcule a covariância e correlação entre os dados e, por fim, se possível, tente explicar qual poderia ser a verdadeira causa da ocorrência das observações. Para isso, utilize a última célula desse notebook.\n",
    "\n",
    "\n",
    "__Observação:__  \n",
    "Para ideias de correlações espúrias, veja os seguintes sites:  \n",
    "http://tylervigen.com/spurious-correlations  \n",
    "https://en.wikipedia.org/wiki/Spurious_relationship#Other_relationships  \n"
   ]
  },
  {
   "cell_type": "code",
   "execution_count": 9,
   "metadata": {
    "deletable": false,
    "nbgrader": {
     "checksum": "4f74225398e8bdbfa829d72a445b0395",
     "grade": true,
     "grade_id": "cell21-a00",
     "locked": false,
     "points": 1,
     "schema_version": 1,
     "solution": true
    },
    "scrolled": true
   },
   "outputs": [
    {
     "data": {
      "image/png": "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\n",
      "text/plain": [
       "<Figure size 432x288 with 1 Axes>"
      ]
     },
     "metadata": {
      "needs_background": "light"
     },
     "output_type": "display_data"
    },
    {
     "data": {
      "image/png": "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\n",
      "text/plain": [
       "<Figure size 432x288 with 1 Axes>"
      ]
     },
     "metadata": {
      "needs_background": "light"
     },
     "output_type": "display_data"
    }
   ],
   "source": [
    "years = range(2000, 2010)\n",
    "nAwards = [861, 830, 809, 867, 948, 1129, 1453, 1656, 1787, 1611]\n",
    "arcadeRevenue = [1.196, 1.176, 1.269, 1.24, 1.307, 1.453, 1.601, 1.654, 1.803, 1.734]\n",
    "\n",
    "plt.title('Doutorados em Ciência da Computação premiados nos EUA')\n",
    "plt.xlabel('Anos')\n",
    "plt.ylabel('Doutorados em CC')\n",
    "plt.scatter(years, nAwards, c='b')\n",
    "plt.show()\n",
    "\n",
    "plt.title('Receita total dos arcades')\n",
    "plt.xlabel('Anos')\n",
    "plt.ylabel('Receita em bilhões de dólares')\n",
    "plt.scatter(years, arcadeRevenue, c='r')\n",
    "plt.show()"
   ]
  },
  {
   "cell_type": "code",
   "execution_count": 10,
   "metadata": {},
   "outputs": [
    {
     "name": "stdout",
     "output_type": "stream",
     "text": [
      "[[1.         0.98358007]\n",
      " [0.98358007 1.        ]]\n"
     ]
    }
   ],
   "source": [
    "''' Exibindo a matriz de correlação entre as variáveis '''\n",
    "print(np.corrcoef(nAwards, arcadeRevenue))"
   ]
  },
  {
   "cell_type": "code",
   "execution_count": 11,
   "metadata": {},
   "outputs": [
    {
     "name": "stdout",
     "output_type": "stream",
     "text": [
      "[[1.52147878e+05 9.09826333e+01]\n",
      " [9.09826333e+01 5.62382333e-02]]\n"
     ]
    }
   ],
   "source": [
    "''' Exibindo a matriz de covariância entre as variáveis '''\n",
    "X = np.stack((nAwards, arcadeRevenue), axis=0)\n",
    "print(np.cov(X))"
   ]
  },
  {
   "cell_type": "markdown",
   "metadata": {},
   "source": [
    "Não consigo enxergar nenhuma justificativa para explicar a verdadeira causa da ocorrência das observações"
   ]
  }
 ],
 "metadata": {
  "kernelspec": {
   "display_name": "Python 3",
   "language": "python",
   "name": "python3"
  },
  "language_info": {
   "codemirror_mode": {
    "name": "ipython",
    "version": 3
   },
   "file_extension": ".py",
   "mimetype": "text/x-python",
   "name": "python",
   "nbconvert_exporter": "python",
   "pygments_lexer": "ipython3",
   "version": "3.5.6"
  }
 },
 "nbformat": 4,
 "nbformat_minor": 2
}
>>>>>>> 770735ca3d954cd88d022056e1c40cec170f8027
